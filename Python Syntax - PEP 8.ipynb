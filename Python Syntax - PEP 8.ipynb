{
 "cells": [
  {
   "cell_type": "markdown",
   "metadata": {},
   "source": [
    "## PEP 8"
   ]
  },
  {
   "cell_type": "markdown",
   "metadata": {},
   "source": [
    "PEP 8 is a document that provides guidelines and best practices on how to write Python code."
   ]
  },
  {
   "cell_type": "markdown",
   "metadata": {},
   "source": [
    "#### A style guide is about consistency."
   ]
  },
  {
   "cell_type": "markdown",
   "metadata": {},
   "source": [
    "Consistency in a project is important.\n",
    "\n",
    "Consistency within one module or function is the most important."
   ]
  },
  {
   "cell_type": "markdown",
   "metadata": {},
   "source": [
    "##### 1- Indentation"
   ]
  },
  {
   "cell_type": "markdown",
   "metadata": {},
   "source": [
    "Guideline: Use 4 spaces per indentation level."
   ]
  },
  {
   "cell_type": "markdown",
   "metadata": {},
   "source": [
    "##### To use Tabs or Spaces? \n"
   ]
  },
  {
   "cell_type": "markdown",
   "metadata": {},
   "source": [
    "In Python spaces is preferred to tabs in general"
   ]
  },
  {
   "cell_type": "markdown",
   "metadata": {},
   "source": [
    "Guideline: While writing code limit per line characters to 79"
   ]
  },
  {
   "cell_type": "markdown",
   "metadata": {},
   "source": [
    "##### Should a line break before or after the binary operator?"
   ]
  },
  {
   "cell_type": "markdown",
   "metadata": {},
   "source": [
    "Guideline: The correct way is to break before the operator"
   ]
  },
  {
   "cell_type": "markdown",
   "metadata": {},
   "source": [
    "##### 2- Blank Lines"
   ]
  },
  {
   "cell_type": "markdown",
   "metadata": {},
   "source": [
    "Guideline: Surround top level function and class definitions with two blank lines.\n",
    "\n",
    "Guideline: Method definitions inside a class are surrounded by a single line."
   ]
  },
  {
   "cell_type": "markdown",
   "metadata": {},
   "source": [
    "##### 3- Source File Encoding"
   ]
  },
  {
   "cell_type": "markdown",
   "metadata": {},
   "source": [
    "Guideline: Code in core Python distribution should always use UTF-8 (or ASCII in Python 2)"
   ]
  },
  {
   "cell_type": "markdown",
   "metadata": {},
   "source": [
    "##### 4- Imports"
   ]
  },
  {
   "cell_type": "markdown",
   "metadata": {},
   "source": [
    "Guideline:Imports should usually be on separate lines"
   ]
  },
  {
   "cell_type": "markdown",
   "metadata": {},
   "source": [
    "##### 5- String Quotes"
   ]
  },
  {
   "cell_type": "markdown",
   "metadata": {},
   "source": [
    "Guideline: When a string contains single or double characters, however, use the other one to avoid backslashes in the string. It improves readability."
   ]
  },
  {
   "cell_type": "markdown",
   "metadata": {},
   "source": [
    "##### 6- White Spaces"
   ]
  },
  {
   "cell_type": "markdown",
   "metadata": {},
   "source": [
    "Avoid extraneous whitespace in the following situations. Immediately inside parentheses, brackets or braces."
   ]
  },
  {
   "cell_type": "markdown",
   "metadata": {},
   "source": [
    "Also, when we have a trailing comma, avoid a space after the comma."
   ]
  },
  {
   "cell_type": "markdown",
   "metadata": {},
   "source": [
    "Immediately before a comma, semicolon, or colon:"
   ]
  },
  {
   "cell_type": "markdown",
   "metadata": {},
   "source": [
    "##### 7 -Naming Conventions"
   ]
  },
  {
   "cell_type": "markdown",
   "metadata": {},
   "source": [
    "As mentioned in the style guide, naming conventions are inconsistent between usages."
   ]
  },
  {
   "cell_type": "markdown",
   "metadata": {},
   "source": [
    "Guideline Functions and Variable names: Function names should be lowercase, with words sperated by underscores as necessary to improve readability.\n",
    "\n",
    "Variable names follow the same convention as the function names.\n",
    "\n",
    "Example: print()\n",
    "\n",
    "\n"
   ]
  },
  {
   "cell_type": "markdown",
   "metadata": {},
   "source": [
    "Guideline for Modules and Packages: Modules should have short, all-lowercase names.\n",
    "\n",
    "Underscores can be used in module name if it improves readability\n",
    "\n",
    "New modules and packages (including third party frameworks) should be written to these standards. However existing library has a different style. Internal consistency is preferred.\n",
    "\n",
    "Example: sys, datetime"
   ]
  },
  {
   "cell_type": "markdown",
   "metadata": {},
   "source": [
    "Guideline for Class Names: Class names should normally use CapWords convention\n",
    "\n",
    "Example: AddSubtract"
   ]
  },
  {
   "cell_type": "markdown",
   "metadata": {},
   "source": [
    "Guideline for Exception Names: Exception Names: Because exceptions should be classes, the class naming convention applies here. However, you should use ‘Error’ on your exception names. (if the exception is actually an error)\n",
    "\n",
    "Example: ImportError, ModuleNotFoundError"
   ]
  },
  {
   "cell_type": "markdown",
   "metadata": {},
   "source": [
    "Guideline for Functions and Variable names: Function names should be lowercase, with words sperated by underscores as necessary to improve readability.\n",
    "\n",
    "Variable names follow the same convention as the function names."
   ]
  },
  {
   "cell_type": "markdown",
   "metadata": {},
   "source": [
    "##### Naming Styles - Comprehensive list of the various naming styles"
   ]
  },
  {
   "cell_type": "markdown",
   "metadata": {},
   "source": [
    "Single lowercase, b\n",
    "\n",
    "Single Uppercase, B\n",
    "\n",
    " \n",
    "\n",
    "lowercase\n",
    "\n",
    " \n",
    "\n",
    "lower_case_with_underscores\n",
    "\n",
    " \n",
    "\n",
    "UPPERCASE\n",
    "\n",
    " \n",
    "\n",
    "UPPER_CASE_WITH_UNDERSCORES\n",
    "\n",
    " \n",
    "\n",
    "CapitalizedWords\n",
    "\n",
    " \n",
    "\n",
    "When using acronyms in Capwords, capitalize all the letters of the acronym.\n",
    "\n",
    "\n",
    "Thus HTTPServerError is better than HttpServerError\n",
    "\n",
    " \n",
    "\n",
    "mixedCase (differs from Capitalized Words by Initial lowercase letters)\n",
    "\n",
    " \n",
    "\n",
    "Capitalized_Words_With_Underscores\n",
    "\n",
    " \n",
    "\n",
    "There is also a style which has short unique prefixes.\n",
    "\n",
    " \n",
    "\n",
    "Os.stat()\n",
    "\n",
    " \n",
    "\n",
    "St_mode, St_Size to emphasize that these names correspond to the stat method."
   ]
  },
  {
   "cell_type": "markdown",
   "metadata": {},
   "source": [
    "Guideline for Constants: are usually defined on a module level and written in all capital letters with underscores separating words.\n",
    "\n",
    "Examples include: MAX_OVERFLOW and TOTAL."
   ]
  },
  {
   "cell_type": "markdown",
   "metadata": {},
   "source": [
    "##### Gudeiline for Function and Method Arguments:\n",
    "\n",
    "Always use self for the first argument to instance methods.\n",
    "Always use cls for the first argument to class methods.\n",
    "\n",
    " \n",
    "\n",
    "Guideline Method names and instance variables:\n",
    "\n",
    "Use the function naming rules:"
   ]
  },
  {
   "cell_type": "markdown",
   "metadata": {},
   "source": []
  },
  {
   "cell_type": "code",
   "execution_count": null,
   "metadata": {},
   "outputs": [],
   "source": []
  }
 ],
 "metadata": {
  "kernelspec": {
   "display_name": "Python 3",
   "language": "python",
   "name": "python3"
  },
  "language_info": {
   "codemirror_mode": {
    "name": "ipython",
    "version": 3
   },
   "file_extension": ".py",
   "mimetype": "text/x-python",
   "name": "python",
   "nbconvert_exporter": "python",
   "pygments_lexer": "ipython3",
   "version": "3.7.6"
  }
 },
 "nbformat": 4,
 "nbformat_minor": 4
}
